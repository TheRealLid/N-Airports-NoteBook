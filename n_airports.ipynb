{
  "nbformat": 4,
  "nbformat_minor": 0,
  "metadata": {
    "colab": {
      "provenance": [],
      "collapsed_sections": []
    },
    "kernelspec": {
      "display_name": "Python 3",
      "language": "python",
      "name": "python3"
    },
    "language_info": {
      "codemirror_mode": {
        "name": "ipython",
        "version": 3
      },
      "file_extension": ".py",
      "mimetype": "text/x-python",
      "name": "python",
      "nbconvert_exporter": "python",
      "pygments_lexer": "ipython3",
      "version": "3.7.9"
    }
  },
  "cells": [
    {
      "cell_type": "code",
      "metadata": {
        "colab": {
          "base_uri": "https://localhost:8080/",
          "height": 513
        },
        "id": "-MPpdWxhtw5k",
        "outputId": "621868ff-e0c7-4073-cb7b-4515c178cfe1"
      },
      "source": [
        "# Matthew Quinn\n",
        "# CECS451\n",
        "# Homework 5\n",
        "# 9/28/2021\n",
        "import random\n",
        "import numpy as np\n",
        "\n",
        "# finds the list of cities closest to each airports\n",
        "def getClosestCities(cities, airports):\n",
        "  closestCities = [] # this is from airports perspective\n",
        "  copyOfCities = cities.copy()\n",
        "  airportIndex = -1\n",
        "  for i in range(0, num_air):\n",
        "    c = []\n",
        "    closestCities.append(c)\n",
        "\n",
        "  while len(copyOfCities) != 0:\n",
        "    current = copyOfCities.pop()\n",
        "    distance = float('inf')\n",
        "    cityMin = float('inf')\n",
        "    # checks the distance of each city to each airport\n",
        "    for i in range(0, num_air): \n",
        "      distance = (((current[0] - airports[i][0]) ** 2) + ((current[1] - airports[i][1]) ** 2))**0.5\n",
        "      # if the distance from current city to airport i is smaller than any of the others so far, update airportIndex\n",
        "      if distance < cityMin:\n",
        "        cityMin = distance\n",
        "        airportIndex = i\n",
        "\n",
        "    closestCities[airportIndex].append(current)\n",
        "  \n",
        "  return closestCities\n",
        "\n",
        "# calculates the gradient and returns an array of gradients. \n",
        "#gradient[0][0] is the gradient of the first airports.x and \n",
        "#gradient[0][1] is the graident of the first airports.y\n",
        "def getGradient(airports, closestCities):\n",
        "  gradient = []\n",
        "  gradientX = 0\n",
        "  gradientY = 0\n",
        "  for i in range(num_air):\n",
        "    gradientX = 0\n",
        "    gradientY = 0\n",
        "    for j in range(0, len(closestCities[i])):\n",
        "      gradientX += 2*(airports[i][0] - closestCities[i][j][0])\n",
        "      gradientY += 2*(airports[i][1] - closestCities[i][j][1])\n",
        "    p = (gradientX, gradientY)\n",
        "    gradient.append(p)\n",
        "    \n",
        "  return gradient\n",
        "\n",
        "\n",
        "def getObjectiveValue(airports, closestCities):\n",
        "  objectiveValue = 0\n",
        "  for i in range(num_air):\n",
        "    for j in range(0, len(closestCities[i])):\n",
        "      objectiveValue += (((airports[i][0] - closestCities[i][j][0])**2) + ((airports[i][1] - closestCities[i][j][1])**2))\n",
        "  return objectiveValue\n",
        "\n",
        "num_city = 100\n",
        "num_air = 3\n",
        "num_center = 5\n",
        "sigma = 0.1\n",
        "cities = set()\n",
        "airports = []\n",
        "test = set()\n",
        "\n",
        "for i in range(num_center):\n",
        "    x = random.random()\n",
        "    y = random.random()\n",
        "    xc = np.random.normal(x, sigma, num_city // num_center)\n",
        "    yc = np.random.normal(y, sigma, num_city // num_center)\n",
        "    cities = cities.union(zip(xc, yc))\n",
        "    \n",
        "for i in range(num_air):\n",
        "    x = random.random()\n",
        "    y = random.random()\n",
        "    airports.append((x, y))\n",
        "\n",
        "\n",
        "\n",
        "\n",
        "\n",
        "closestCities = getClosestCities(cities, airports)\n",
        "gradient = getGradient(airports, closestCities)\n",
        "objectiveValue = getObjectiveValue(airports, closestCities)\n",
        "xList = []\n",
        "objectiveVals = []\n",
        "numberOfLoops = 0\n",
        "endVal = 0.0001\n",
        "running = True\n",
        "while running:\n",
        "  \n",
        "  numberOfLoops += 1\n",
        "  xList.append(numberOfLoops)\n",
        "  closestCities = getClosestCities(cities, airports)\n",
        "  gradient = getGradient(airports, closestCities)\n",
        "  for i in range(0, num_air):\n",
        "    airports[i] = (airports[i][0] - (gradient[i][0] * 0.01), airports[i][1] - (gradient[i][1]*0.01))\n",
        "\n",
        "    \n",
        "  objectiveValue = getObjectiveValue(airports, closestCities)\n",
        "  objectiveVals.append(objectiveValue)\n",
        "\n",
        "  # Checks if all the gradients are extremely small, in which case the program will end\n",
        "  endCount = 0\n",
        "  for m in range(0, len(gradient)):\n",
        "    if abs(gradient[m][0]) < endVal:\n",
        "      endCount += 1\n",
        "    if abs(gradient[m][1]) < endVal:\n",
        "      endCount += 1\n",
        "  if endCount == len(gradient)*2:\n",
        "    running = False\n",
        " \n",
        "\n",
        "import matplotlib.pyplot as plt\n",
        "zip_cities = zip(*cities)\n",
        "plt.scatter(*zip_cities, marker='+', color='b', label='Cities')\n",
        "zip_airs = zip(*airports)\n",
        "plt.scatter(*zip_airs, marker='*', color='r', s=100, label='Airports')\n",
        "plt.legend()\n",
        "plt.show()\n",
        "plt.clf()\n",
        "\n",
        "\n",
        "#[airport number][city number][x or y cord]\n",
        "# closestCities[0][0][0]\n",
        "\n",
        "x = np.array(xList)\n",
        "y = np.array(objectiveVals)\n",
        "\n",
        "\n",
        "\n",
        "plt.plot(x, y, color='green', linestyle='dashed', linewidth = 3,\n",
        "        marker='o', markerfacecolor='blue', markersize=12)\n",
        "plt.show()"
      ],
      "execution_count": 1,
      "outputs": [
        {
          "output_type": "display_data",
          "data": {
            "text/plain": [
              "<Figure size 432x288 with 1 Axes>"
            ],
            "image/png": "[encoded data removed]"
          },
          "metadata": {
            "needs_background": "light"
          }
        },
        {
          "output_type": "display_data",
          "data": {
            "text/plain": [
              "<Figure size 432x288 with 1 Axes>"
            ],
            "image/png": "[encoded data removed]"
          },
          "metadata": {
            "needs_background": "light"
          }
        }
      ]
    }
  ]
}